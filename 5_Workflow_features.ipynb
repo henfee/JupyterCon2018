{
 "cells": [
  {
   "cell_type": "markdown",
   "metadata": {
    "kernel": "SoS"
   },
   "source": [
    "## Workflow features"
   ]
  },
  {
   "cell_type": "markdown",
   "metadata": {
    "kernel": "SoS"
   },
   "source": [
    "## Parameters"
   ]
  },
  {
   "cell_type": "code",
   "execution_count": 1,
   "metadata": {
    "kernel": "SoS"
   },
   "outputs": [
    {
     "name": "stdout",
     "output_type": "stream",
     "text": [
      "null device \n",
      "          1 \n"
     ]
    }
   ],
   "source": [
    "%run --excel-file data/DEG.xlsx\n",
    "\n",
    "[global]\n",
    "parameter: excel_file = path\n",
    "parameter: figure_file = 'output.pdf'\n",
    "\n",
    "csv_file = excel_file.with_suffix('.csv')\n",
    "\n",
    "[plot_1 (convert)]\n",
    "sh: expand=True\n",
    "    xlsx2csv {excel_file} > {csv_file}\n",
    "    \n",
    "[plot_2 (plot)]\n",
    "R: expand=True\n",
    "    data <- read.csv('{csv_file}')\n",
    "    pdf('{figure_file}')\n",
    "    plot(data$log2FoldChange, data$stat)\n",
    "    dev.off()\n"
   ]
  },
  {
   "cell_type": "markdown",
   "metadata": {
    "kernel": "SoS"
   },
   "source": [
    "### Signature"
   ]
  },
  {
   "cell_type": "code",
   "execution_count": 2,
   "metadata": {
    "kernel": "SoS"
   },
   "outputs": [
    {
     "name": "stdout",
     "output_type": "stream",
     "text": [
      "null device \n",
      "          1 \n"
     ]
    }
   ],
   "source": [
    "%run --excel-file data/DEG.xlsx\n",
    "\n",
    "[global]\n",
    "parameter: excel_file = path\n",
    "parameter: figure_file = 'output.pdf'\n",
    "\n",
    "csv_file = excel_file.with_suffix('.csv')\n",
    "\n",
    "[plot_1 (convert)]\n",
    "input: excel_file\n",
    "output: csv_file\n",
    "sh: expand=True\n",
    "    xlsx2csv {_input} > {_output}\n",
    "    \n",
    "[plot_2 (plot)]\n",
    "output: figure_file\n",
    "R: expand=True\n",
    "    data <- read.csv('{_input}')\n",
    "    pdf('{_output}')\n",
    "    plot(data$log2FoldChange, data$stat)\n",
    "    dev.off()\n"
   ]
  },
  {
   "cell_type": "markdown",
   "metadata": {
    "kernel": "SoS"
   },
   "source": [
    "### Process-oriented vs Outcome oriented workflows"
   ]
  },
  {
   "cell_type": "code",
   "execution_count": 3,
   "metadata": {
    "kernel": "SoS",
    "scrolled": true
   },
   "outputs": [
    {
     "name": "stdout",
     "output_type": "stream",
     "text": [
      "null device \n",
      "          1 \n"
     ]
    }
   ],
   "source": [
    "%run\n",
    "\n",
    "[plot_1 (convert)]\n",
    "input:  'data/DEG.xlsx'\n",
    "output: 'DEG.csv'\n",
    "sh: expand=True\n",
    "    xlsx2csv {_input} > {_output}\n",
    "    \n",
    "[plot_2 (plot)]\n",
    "input:  'DEG.csv'\n",
    "output: 'DEG.pdf'\n",
    "R: expand=True\n",
    "    data <- read.csv('{_input}')\n",
    "    pdf('{_output}')\n",
    "    plot(data$log2FoldChange, data$stat)\n",
    "    dev.off()"
   ]
  },
  {
   "cell_type": "code",
   "execution_count": 4,
   "metadata": {
    "kernel": "SoS"
   },
   "outputs": [
    {
     "name": "stdout",
     "output_type": "stream",
     "text": [
      "null device \n",
      "          1 \n"
     ]
    }
   ],
   "source": [
    "!rm -f data/DEG.csv DEG.pdf\n",
    "%run -t DEG.pdf\n",
    "\n",
    "[convert: provides='{filename}.csv']\n",
    "input:  f'{filename}.xlsx'\n",
    "sh: expand=True\n",
    "    xlsx2csv {_input} > {_output}\n",
    "    \n",
    "[plot]\n",
    "input:  'data/DEG.csv'\n",
    "output: 'DEG.pdf'\n",
    "R: expand=True\n",
    "    data <- read.csv('{_input}')\n",
    "    pdf('{_output}')\n",
    "    plot(data$log2FoldChange, data$stat)\n",
    "    dev.off()\n"
   ]
  },
  {
   "cell_type": "code",
   "execution_count": null,
   "metadata": {
    "kernel": "SoS"
   },
   "outputs": [],
   "source": []
  }
 ],
 "metadata": {
  "kernelspec": {
   "display_name": "SoS",
   "language": "sos",
   "name": "sos"
  },
  "language_info": {
   "codemirror_mode": "sos",
   "file_extension": ".sos",
   "mimetype": "text/x-sos",
   "name": "sos",
   "nbconvert_exporter": "sos_notebook.converter.SoS_Exporter",
   "pygments_lexer": "sos"
  },
  "sos": {
   "default_kernel": "SoS",
   "kernels": [
    [
     "Bash",
     "bash",
     "Bash",
     "#E6EEFF"
    ],
    [
     "R",
     "ir",
     "R",
     "#DCDCDA"
    ],
    [
     "SoS",
     "sos",
     "",
     ""
    ]
   ],
   "panel": {
    "displayed": true,
    "height": 0,
    "style": "side"
   },
   "version": "0.9.16.7"
  }
 },
 "nbformat": 4,
 "nbformat_minor": 2
}
