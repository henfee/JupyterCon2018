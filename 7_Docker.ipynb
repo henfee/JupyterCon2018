{
 "cells": [
  {
   "cell_type": "markdown",
   "metadata": {},
   "source": [
    "### Using docker with SoS"
   ]
  },
  {
   "cell_type": "markdown",
   "metadata": {},
   "source": [
    "In the following example, a docker image `compbio/ngseasy-fastqc:1.0-r001` is used to process local fastq files"
   ]
  },
  {
   "cell_type": "code",
   "execution_count": 2,
   "metadata": {
    "kernel": "SoS"
   },
   "outputs": [
    {
     "name": "stdout",
     "output_type": "stream",
     "text": [
      "/usr/local/bin/fastqc S20_R1.fastq S20_R2.fastq\n",
      "Started analysis of S20_R1.fastq\n",
      "Analysis complete for S20_R1.fastq\n",
      "Started analysis of S20_R2.fastq\n",
      "Analysis complete for S20_R2.fastq\n"
     ]
    }
   ],
   "source": [
    "fastq_files = glob.glob('*.fastq')\n",
    "\n",
    "run: docker_image='compbio/ngseasy-fastqc:1.0-r001', expand=True\n",
    "    /usr/local/bin/fastqc {paths(fastq_files)}"
   ]
  },
  {
   "cell_type": "code",
   "execution_count": null,
   "metadata": {},
   "outputs": [],
   "source": []
  }
 ],
 "metadata": {
  "kernelspec": {
   "display_name": "SoS",
   "language": "sos",
   "name": "sos"
  },
  "language_info": {
   "codemirror_mode": "sos",
   "file_extension": ".sos",
   "mimetype": "text/x-sos",
   "name": "sos",
   "nbconvert_exporter": "sos_notebook.converter.SoS_Exporter",
   "pygments_lexer": "sos"
  },
  "sos": {
   "default_kernel": "SoS",
   "kernels": [
    [
     "SoS",
     "sos",
     "",
     ""
    ]
   ],
   "panel": {
    "displayed": true,
    "height": 0,
    "style": "side"
   },
   "version": "0.9.13.4"
  }
 },
 "nbformat": 4,
 "nbformat_minor": 2
}
