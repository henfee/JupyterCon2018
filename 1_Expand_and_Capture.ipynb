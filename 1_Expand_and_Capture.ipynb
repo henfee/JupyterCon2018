{
 "cells": [
  {
   "cell_type": "code",
   "execution_count": 1,
   "metadata": {
    "kernel": "SoS"
   },
   "outputs": [],
   "source": [
    "# The SoS language is based on Python 3.6+ so \n",
    "# any python statements are acceptable\n",
    "\n",
    "filename = '1_Expand_and_Capture.ipynb'"
   ]
  },
  {
   "cell_type": "code",
   "execution_count": 2,
   "metadata": {
    "kernel": "Bash"
   },
   "outputs": [
    {
     "name": "stdout",
     "output_type": "stream",
     "text": [
      "     138 1_Expand_and_Capture.ipynb\n"
     ]
    }
   ],
   "source": [
    "wc -l 1_Expand_and_Capture.ipynb"
   ]
  },
  {
   "cell_type": "code",
   "execution_count": 3,
   "metadata": {
    "kernel": "Bash"
   },
   "outputs": [
    {
     "name": "stdout",
     "output_type": "stream",
     "text": [
      "     138 1_Expand_and_Capture.ipynb\n"
     ]
    }
   ],
   "source": [
    "%expand\n",
    "wc -l {filename}"
   ]
  },
  {
   "cell_type": "code",
   "execution_count": 4,
   "metadata": {
    "kernel": "Bash"
   },
   "outputs": [
    {
     "name": "stdout",
     "output_type": "stream",
     "text": [
      "wc: {filename}: open: No such file or directory\n"
     ]
    },
    {
     "ename": "",
     "evalue": "1",
     "output_type": "error",
     "traceback": []
    }
   ],
   "source": [
    "wc -l {filename}"
   ]
  },
  {
   "cell_type": "code",
   "execution_count": 6,
   "metadata": {
    "kernel": "SoS"
   },
   "outputs": [
    {
     "name": "stderr",
     "output_type": "stream",
     "text": [
      "Failed to start kernel \"JavaScript\". Kernel died before replying to kernel_info\n",
      "Error Message:\n",
      "module.js:681\n",
      "  return process.dlopen(module, path._makeLong(filename));\n",
      "                 ^\n",
      "\n",
      "Error: The module '/Users/bpeng1/.npm-packages/lib/node_modules/ijavascript/node_modules/zeromq/build/Release/zmq.node'\n",
      "was compiled against a different Node.js version using\n",
      "NODE_MODULE_VERSION 64. This version of Node.js requires\n",
      "NODE_MODULE_VERSION 57. Please try re-compiling or re-installing\n",
      "the module (for instance, using `npm rebuild` or `npm install`).\n",
      "    at Object.Module._extensions..node (module.js:681:18)\n",
      "    at Module.load (module.js:565:32)\n",
      "    at tryModuleLoad (module.js:505:12)\n",
      "    at Function.Module._load (module.js:497:3)\n",
      "    at Module.require (module.js:596:17)\n",
      "    at require (internal/module.js:11:18)\n",
      "    at Object.<anonymous> (/Users/bpeng1/.npm-packages/lib/node_modules/ijavascript/node_modules/zeromq/lib/index.js:6:11)\n",
      "    at Module._compile (module.js:652:30)\n",
      "    at Object.Module._extensions..js (module.js:663:10)\n",
      "    at Module.load (module.js:565:32)\n",
      "Use of %expand magic in SoS cells is deprecated.\n",
      "\n",
      "---------------------------------------------------------------------------\n",
      "NameError                                 Traceback (most recent call last)\n",
      "script_2834331028080385142 in <module>\n",
      "----> JSON.parse(\"1_Expand_and_Capture.ipynb\");\n",
      "\n",
      "NameError: name 'JSON' is not defined\n"
     ]
    }
   ],
   "source": [
    "%expand\n",
    "JSON.parse(\"{filename}\");"
   ]
  },
  {
   "cell_type": "code",
   "execution_count": null,
   "metadata": {
    "kernel": "JavaScript"
   },
   "outputs": [],
   "source": []
  }
 ],
 "metadata": {
  "kernelspec": {
   "display_name": "SoS",
   "language": "sos",
   "name": "sos"
  },
  "language_info": {
   "codemirror_mode": "sos",
   "file_extension": ".sos",
   "mimetype": "text/x-sos",
   "name": "sos",
   "nbconvert_exporter": "sos_notebook.converter.SoS_Exporter",
   "pygments_lexer": "sos"
  },
  "sos": {
   "kernels": [
    [
     "Bash",
     "bash",
     "Bash",
     "#E6EEFF"
    ],
    [
     "JavaScript",
     "javascript",
     "JavaScript",
     "#c8e1ae"
    ],
    [
     "SoS",
     "sos",
     "",
     ""
    ]
   ],
   "panel": {
    "displayed": true,
    "height": 0,
    "style": "side"
   },
   "version": "0.9.16.5"
  }
 },
 "nbformat": 4,
 "nbformat_minor": 2
}
